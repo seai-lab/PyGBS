{
 "cells": [
  {
   "cell_type": "code",
   "execution_count": 7,
   "id": "d879c59e",
   "metadata": {},
   "outputs": [],
   "source": [
    "from gbsio import read_from_csv\n",
    "from partition import RelativePartitioner\n",
    "from gbs import compute_kl_sri\n",
    "\n",
    "## Read coordinates and values from CSV file.\n",
    "coords, values = read_from_csv(\"data/example_data.csv\", value_column=\"hit@1\")\n",
    "\n",
    "## Construct a partitioner that extract neighborhood points.\n",
    "partitioner = RelativePartitioner(coords, values)\n",
    "\n",
    "## The index of the center point to evaluate.\n",
    "idx = 0\n",
    "center = coords[idx]\n",
    "\n",
    "## The radius of the neighborhood.\n",
    "radius = 0.1\n",
    "scale = 0.05\n",
    "\n",
    "## Extract neighbood points.\n",
    "local_coords_list, local_values_list, total_list = partitioner.get_scale_grid(idx, radius, scale)"
   ]
  },
  {
   "cell_type": "code",
   "execution_count": 2,
   "id": "971c535f",
   "metadata": {},
   "outputs": [
    {
     "data": {
      "text/plain": [
       "array([ 0.84053838, -1.21585208])"
      ]
     },
     "execution_count": 2,
     "metadata": {},
     "output_type": "execute_result"
    }
   ],
   "source": [
    "center"
   ]
  },
  {
   "cell_type": "code",
   "execution_count": 3,
   "id": "a475de38",
   "metadata": {},
   "outputs": [],
   "source": [
    "from matplotlib import pyplot as plt"
   ]
  },
  {
   "cell_type": "code",
   "execution_count": 4,
   "id": "e5e34607",
   "metadata": {},
   "outputs": [
    {
     "data": {
      "image/png": "[encoded data removed]",
      "text/plain": [
       "<Figure size 640x480 with 1 Axes>"
      ]
     },
     "metadata": {},
     "output_type": "display_data"
    }
   ],
   "source": [
    "plt.xlim([center[1] - 0.1, center[1] + 0.1])\n",
    "plt.ylim([center[0] - 0.1, center[0] + 0.1])\n",
    "\n",
    "for local_coords in local_coords_list:\n",
    "    plt.scatter(local_coords[:, 1], local_coords[:, 0], s=1)"
   ]
  },
  {
   "cell_type": "code",
   "execution_count": 8,
   "id": "51f02f15",
   "metadata": {},
   "outputs": [
    {
     "name": "stdout",
     "output_type": "stream",
     "text": [
      "[array([ 0.05887676,  0.        ,  0.        ,  0.        ,  0.        ,\n",
      "        0.        ,  0.        ,  0.        ,  0.        , -0.05101394]), array([-0.0558173 ,  0.        ,  0.        ,  0.        ,  0.        ,\n",
      "        0.        ,  0.        ,  0.        ,  0.        ,  0.07086297]), array([-0.05762378,  0.        ,  0.        ,  0.        ,  0.        ,\n",
      "        0.        ,  0.        ,  0.        ,  0.        ,  0.07409124])] [0.18867924528301888, 0.3018867924528302, 0.1320754716981132]\n"
     ]
    }
   ],
   "source": [
    "sris, weights = compute_kl_sri(local_values_list, total_list)\n",
    "\n",
    "print(sris, weights)"
   ]
  },
  {
   "cell_type": "code",
   "execution_count": 9,
   "id": "69e9c2d5",
   "metadata": {},
   "outputs": [
    {
     "data": {
      "text/plain": [
       "3"
      ]
     },
     "execution_count": 9,
     "metadata": {},
     "output_type": "execute_result"
    }
   ],
   "source": [
    "len(sris)"
   ]
  },
  {
   "cell_type": "code",
   "execution_count": null,
   "id": "d7b6e2ca",
   "metadata": {},
   "outputs": [],
   "source": []
  }
 ],
 "metadata": {
  "kernelspec": {
   "display_name": "Python 3 (ipykernel)",
   "language": "python",
   "name": "python3"
  },
  "language_info": {
   "codemirror_mode": {
    "name": "ipython",
    "version": 3
   },
   "file_extension": ".py",
   "mimetype": "text/x-python",
   "name": "python",
   "nbconvert_exporter": "python",
   "pygments_lexer": "ipython3",
   "version": "3.9.12"
  }
 },
 "nbformat": 4,
 "nbformat_minor": 5
}
